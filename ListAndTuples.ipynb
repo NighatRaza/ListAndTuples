{
 "cells": [
  {
   "cell_type": "code",
   "execution_count": 2,
   "id": "7090b5f7",
   "metadata": {},
   "outputs": [],
   "source": [
    "# list\n",
    "# tuple"
   ]
  },
  {
   "cell_type": "code",
   "execution_count": 3,
   "id": "2061e949",
   "metadata": {},
   "outputs": [],
   "source": [
    "# LIST FUNCTIONS AND METHODS\n",
    "# type\n",
    "# len\n",
    "# del\n",
    "# insert\n",
    "# append\n",
    "# clear\n",
    "# remove\n",
    "# pop"
   ]
  },
  {
   "cell_type": "code",
   "execution_count": 4,
   "id": "eae1b95d",
   "metadata": {},
   "outputs": [],
   "source": [
    "# list declare and initialize\n",
    "students = []"
   ]
  },
  {
   "cell_type": "code",
   "execution_count": 5,
   "id": "51605a8e",
   "metadata": {},
   "outputs": [
    {
     "data": {
      "text/plain": [
       "list"
      ]
     },
     "execution_count": 5,
     "metadata": {},
     "output_type": "execute_result"
    }
   ],
   "source": [
    "type(students)"
   ]
  },
  {
   "cell_type": "code",
   "execution_count": 6,
   "id": "e64dfade",
   "metadata": {},
   "outputs": [
    {
     "data": {
      "text/plain": [
       "0"
      ]
     },
     "execution_count": 6,
     "metadata": {},
     "output_type": "execute_result"
    }
   ],
   "source": [
    "len(students)"
   ]
  },
  {
   "cell_type": "code",
   "execution_count": 7,
   "id": "f9f5458d",
   "metadata": {},
   "outputs": [],
   "source": [
    "students = ['asad','ali','daad','hassan']\n",
    "# index:       0      1     2        3\n",
    "# negindex:   -4     -3    -2       -1"
   ]
  },
  {
   "cell_type": "code",
   "execution_count": 8,
   "id": "0e50d7a8",
   "metadata": {},
   "outputs": [
    {
     "data": {
      "text/plain": [
       "4"
      ]
     },
     "execution_count": 8,
     "metadata": {},
     "output_type": "execute_result"
    }
   ],
   "source": [
    "len(students)"
   ]
  },
  {
   "cell_type": "code",
   "execution_count": 9,
   "id": "06fc5048",
   "metadata": {},
   "outputs": [
    {
     "data": {
      "text/plain": [
       "'daad'"
      ]
     },
     "execution_count": 9,
     "metadata": {},
     "output_type": "execute_result"
    }
   ],
   "source": [
    "students[2]"
   ]
  },
  {
   "cell_type": "code",
   "execution_count": 10,
   "id": "1bf98f39",
   "metadata": {},
   "outputs": [
    {
     "data": {
      "text/plain": [
       "'daad'"
      ]
     },
     "execution_count": 10,
     "metadata": {},
     "output_type": "execute_result"
    }
   ],
   "source": [
    "students[-2]"
   ]
  },
  {
   "cell_type": "code",
   "execution_count": 11,
   "id": "1954c94f",
   "metadata": {},
   "outputs": [],
   "source": [
    "miscList = ['nasir',12,True,23.7,[11,22,33]]"
   ]
  },
  {
   "cell_type": "code",
   "execution_count": 12,
   "id": "c5e28d42",
   "metadata": {},
   "outputs": [
    {
     "data": {
      "text/plain": [
       "[11, 22, 33]"
      ]
     },
     "execution_count": 12,
     "metadata": {},
     "output_type": "execute_result"
    }
   ],
   "source": [
    "miscList[-1]"
   ]
  },
  {
   "cell_type": "code",
   "execution_count": 13,
   "id": "01b4eda9",
   "metadata": {},
   "outputs": [
    {
     "data": {
      "text/plain": [
       "33"
      ]
     },
     "execution_count": 13,
     "metadata": {},
     "output_type": "execute_result"
    }
   ],
   "source": [
    "miscList[-1][-1]"
   ]
  },
  {
   "cell_type": "code",
   "execution_count": 14,
   "id": "0ada4643",
   "metadata": {},
   "outputs": [],
   "source": [
    "# insert\n",
    "# update\n",
    "# delete"
   ]
  },
  {
   "cell_type": "code",
   "execution_count": 15,
   "id": "ca839c09",
   "metadata": {},
   "outputs": [],
   "source": [
    "miscList[2] = False"
   ]
  },
  {
   "cell_type": "code",
   "execution_count": 16,
   "id": "85bd8931",
   "metadata": {},
   "outputs": [
    {
     "data": {
      "text/plain": [
       "['nasir', 12, False, 23.7, [11, 22, 33]]"
      ]
     },
     "execution_count": 16,
     "metadata": {},
     "output_type": "execute_result"
    }
   ],
   "source": [
    "miscList"
   ]
  },
  {
   "cell_type": "code",
   "execution_count": 17,
   "id": "566c92b5",
   "metadata": {},
   "outputs": [],
   "source": [
    "del miscList[2]"
   ]
  },
  {
   "cell_type": "code",
   "execution_count": 18,
   "id": "2fc0c612",
   "metadata": {},
   "outputs": [
    {
     "data": {
      "text/plain": [
       "['nasir', 12, 23.7, [11, 22, 33]]"
      ]
     },
     "execution_count": 18,
     "metadata": {},
     "output_type": "execute_result"
    }
   ],
   "source": [
    "miscList"
   ]
  },
  {
   "cell_type": "code",
   "execution_count": 19,
   "id": "9ca89d2b",
   "metadata": {},
   "outputs": [],
   "source": [
    "miscList.insert(2,3)"
   ]
  },
  {
   "cell_type": "code",
   "execution_count": 20,
   "id": "61ea021d",
   "metadata": {},
   "outputs": [
    {
     "data": {
      "text/plain": [
       "['nasir', 12, 3, 23.7, [11, 22, 33]]"
      ]
     },
     "execution_count": 20,
     "metadata": {},
     "output_type": "execute_result"
    }
   ],
   "source": [
    "miscList"
   ]
  },
  {
   "cell_type": "code",
   "execution_count": 22,
   "id": "1b0b450b",
   "metadata": {},
   "outputs": [],
   "source": [
    "miscList.append(45.45)"
   ]
  },
  {
   "cell_type": "code",
   "execution_count": 23,
   "id": "dfb3f3ba",
   "metadata": {},
   "outputs": [
    {
     "data": {
      "text/plain": [
       "['nasir', 12, 3, 3, 23.7, [11, 22, 33], 45.45]"
      ]
     },
     "execution_count": 23,
     "metadata": {},
     "output_type": "execute_result"
    }
   ],
   "source": [
    "miscList"
   ]
  },
  {
   "cell_type": "code",
   "execution_count": 25,
   "id": "c75acdb7",
   "metadata": {},
   "outputs": [],
   "source": [
    "miscList.remove(3)"
   ]
  },
  {
   "cell_type": "code",
   "execution_count": 26,
   "id": "f5e75a98",
   "metadata": {},
   "outputs": [
    {
     "data": {
      "text/plain": [
       "['nasir', 12, 3, 23.7, [11, 22, 33], 45.45]"
      ]
     },
     "execution_count": 26,
     "metadata": {},
     "output_type": "execute_result"
    }
   ],
   "source": [
    "miscList"
   ]
  },
  {
   "cell_type": "code",
   "execution_count": 27,
   "id": "519d717f",
   "metadata": {},
   "outputs": [
    {
     "data": {
      "text/plain": [
       "['nasir', 12, 3, 23.7, [11, 22, 33], 45.45, 33]"
      ]
     },
     "execution_count": 27,
     "metadata": {},
     "output_type": "execute_result"
    }
   ],
   "source": [
    "miscList.insert(20,33)\n",
    "miscList"
   ]
  },
  {
   "cell_type": "code",
   "execution_count": 30,
   "id": "851f5f8d",
   "metadata": {},
   "outputs": [
    {
     "data": {
      "text/plain": [
       "33"
      ]
     },
     "execution_count": 30,
     "metadata": {},
     "output_type": "execute_result"
    }
   ],
   "source": [
    "miscList[6]"
   ]
  },
  {
   "cell_type": "code",
   "execution_count": 33,
   "id": "a7decba2",
   "metadata": {},
   "outputs": [
    {
     "data": {
      "text/plain": [
       "3"
      ]
     },
     "execution_count": 33,
     "metadata": {},
     "output_type": "execute_result"
    }
   ],
   "source": [
    "miscList.index(23.7)"
   ]
  },
  {
   "cell_type": "code",
   "execution_count": 42,
   "id": "5aa13096",
   "metadata": {},
   "outputs": [
    {
     "data": {
      "text/plain": [
       "[11, 22, 33]"
      ]
     },
     "execution_count": 42,
     "metadata": {},
     "output_type": "execute_result"
    }
   ],
   "source": [
    "miscList.pop() "
   ]
  },
  {
   "cell_type": "code",
   "execution_count": 43,
   "id": "dda52a5a",
   "metadata": {},
   "outputs": [
    {
     "data": {
      "text/plain": [
       "23.7"
      ]
     },
     "execution_count": 43,
     "metadata": {},
     "output_type": "execute_result"
    }
   ],
   "source": [
    "miscList.pop(2)"
   ]
  },
  {
   "cell_type": "code",
   "execution_count": 45,
   "id": "cd7799e8",
   "metadata": {},
   "outputs": [],
   "source": [
    "miscList.clear()"
   ]
  },
  {
   "cell_type": "code",
   "execution_count": 47,
   "id": "f00f5097",
   "metadata": {},
   "outputs": [
    {
     "data": {
      "text/plain": [
       "[]"
      ]
     },
     "execution_count": 47,
     "metadata": {},
     "output_type": "execute_result"
    }
   ],
   "source": [
    "miscList"
   ]
  },
  {
   "cell_type": "code",
   "execution_count": 48,
   "id": "8d36c1c6",
   "metadata": {},
   "outputs": [
    {
     "data": {
      "text/plain": [
       "False"
      ]
     },
     "execution_count": 48,
     "metadata": {},
     "output_type": "execute_result"
    }
   ],
   "source": [
    "23.7 in miscList"
   ]
  },
  {
   "cell_type": "code",
   "execution_count": 50,
   "id": "f505bd85",
   "metadata": {},
   "outputs": [],
   "source": [
    "# copying a list\n",
    "# copy\n",
    "# [:]\n",
    "# lista = listb"
   ]
  },
  {
   "cell_type": "code",
   "execution_count": 54,
   "id": "c679e1dd",
   "metadata": {},
   "outputs": [
    {
     "data": {
      "text/plain": [
       "['asad', 'ali', 'daad', 'hassan']"
      ]
     },
     "execution_count": 54,
     "metadata": {},
     "output_type": "execute_result"
    }
   ],
   "source": [
    "newst = students  # reference copy\n",
    "newst"
   ]
  },
  {
   "cell_type": "code",
   "execution_count": 55,
   "id": "6c322486",
   "metadata": {},
   "outputs": [],
   "source": [
    "students.remove('ali')"
   ]
  },
  {
   "cell_type": "code",
   "execution_count": 56,
   "id": "3a056ca3",
   "metadata": {},
   "outputs": [
    {
     "data": {
      "text/plain": [
       "['asad', 'daad', 'hassan']"
      ]
     },
     "execution_count": 56,
     "metadata": {},
     "output_type": "execute_result"
    }
   ],
   "source": [
    "students"
   ]
  },
  {
   "cell_type": "code",
   "execution_count": 57,
   "id": "4d02908a",
   "metadata": {},
   "outputs": [
    {
     "data": {
      "text/plain": [
       "['asad', 'daad', 'hassan']"
      ]
     },
     "execution_count": 57,
     "metadata": {},
     "output_type": "execute_result"
    }
   ],
   "source": [
    "newst"
   ]
  },
  {
   "cell_type": "code",
   "execution_count": 62,
   "id": "5a484a15",
   "metadata": {},
   "outputs": [],
   "source": [
    "a = students.copy() # value copy (separate copy)"
   ]
  },
  {
   "cell_type": "code",
   "execution_count": 63,
   "id": "64551d4f",
   "metadata": {},
   "outputs": [
    {
     "data": {
      "text/plain": [
       "'hassan'"
      ]
     },
     "execution_count": 63,
     "metadata": {},
     "output_type": "execute_result"
    }
   ],
   "source": [
    "a.pop()"
   ]
  },
  {
   "cell_type": "code",
   "execution_count": 64,
   "id": "f483f96d",
   "metadata": {},
   "outputs": [
    {
     "data": {
      "text/plain": [
       "['asad', 'daad', 'hassan']"
      ]
     },
     "execution_count": 64,
     "metadata": {},
     "output_type": "execute_result"
    }
   ],
   "source": [
    "students"
   ]
  },
  {
   "cell_type": "code",
   "execution_count": 65,
   "id": "4135c593",
   "metadata": {},
   "outputs": [
    {
     "data": {
      "text/plain": [
       "['asad', 'daad']"
      ]
     },
     "execution_count": 65,
     "metadata": {},
     "output_type": "execute_result"
    }
   ],
   "source": [
    "a"
   ]
  },
  {
   "cell_type": "code",
   "execution_count": 66,
   "id": "07ddfdeb",
   "metadata": {},
   "outputs": [
    {
     "data": {
      "text/plain": [
       "['asad', 'daad', 'hassan']"
      ]
     },
     "execution_count": 66,
     "metadata": {},
     "output_type": "execute_result"
    }
   ],
   "source": [
    "yourst = students[:]   # \n",
    "yourst"
   ]
  },
  {
   "cell_type": "code",
   "execution_count": 67,
   "id": "fb743159",
   "metadata": {},
   "outputs": [
    {
     "data": {
      "text/plain": [
       "['asad', 'daad']"
      ]
     },
     "execution_count": 67,
     "metadata": {},
     "output_type": "execute_result"
    }
   ],
   "source": [
    "students.pop()\n",
    "students"
   ]
  },
  {
   "cell_type": "code",
   "execution_count": 68,
   "id": "0419fed5",
   "metadata": {},
   "outputs": [
    {
     "data": {
      "text/plain": [
       "['asad', 'daad', 'hassan']"
      ]
     },
     "execution_count": 68,
     "metadata": {},
     "output_type": "execute_result"
    }
   ],
   "source": [
    "yourst"
   ]
  },
  {
   "cell_type": "code",
   "execution_count": 69,
   "id": "730e500d",
   "metadata": {},
   "outputs": [
    {
     "data": {
      "text/plain": [
       "1"
      ]
     },
     "execution_count": 69,
     "metadata": {},
     "output_type": "execute_result"
    }
   ],
   "source": [
    "students.count('daad')"
   ]
  },
  {
   "cell_type": "code",
   "execution_count": 70,
   "id": "a32df519",
   "metadata": {},
   "outputs": [
    {
     "data": {
      "text/plain": [
       "0"
      ]
     },
     "execution_count": 70,
     "metadata": {},
     "output_type": "execute_result"
    }
   ],
   "source": [
    "yourst.count(23)"
   ]
  },
  {
   "cell_type": "code",
   "execution_count": 71,
   "id": "ec11d75b",
   "metadata": {},
   "outputs": [
    {
     "data": {
      "text/plain": [
       "2"
      ]
     },
     "execution_count": 71,
     "metadata": {},
     "output_type": "execute_result"
    }
   ],
   "source": [
    "'daad'.count('a')"
   ]
  },
  {
   "cell_type": "code",
   "execution_count": 76,
   "id": "b3e662d3",
   "metadata": {},
   "outputs": [],
   "source": [
    "students = students +[2,3]"
   ]
  },
  {
   "cell_type": "code",
   "execution_count": 77,
   "id": "e014abd8",
   "metadata": {},
   "outputs": [],
   "source": [
    "students.extend([4,5])        # concat"
   ]
  },
  {
   "cell_type": "code",
   "execution_count": 78,
   "id": "e018a71e",
   "metadata": {},
   "outputs": [
    {
     "data": {
      "text/plain": [
       "['asad', 'daad', 4, 5, 2, 3, 4, 5]"
      ]
     },
     "execution_count": 78,
     "metadata": {},
     "output_type": "execute_result"
    }
   ],
   "source": [
    "students"
   ]
  },
  {
   "cell_type": "code",
   "execution_count": 79,
   "id": "dcc40fb5",
   "metadata": {},
   "outputs": [],
   "source": [
    "students.append([4,5])       # as a new single value"
   ]
  },
  {
   "cell_type": "code",
   "execution_count": 80,
   "id": "faf46e00",
   "metadata": {},
   "outputs": [
    {
     "data": {
      "text/plain": [
       "['asad', 'daad', 4, 5, 2, 3, 4, 5, [4, 5]]"
      ]
     },
     "execution_count": 80,
     "metadata": {},
     "output_type": "execute_result"
    }
   ],
   "source": [
    "students"
   ]
  },
  {
   "cell_type": "code",
   "execution_count": 81,
   "id": "7dc89395",
   "metadata": {},
   "outputs": [
    {
     "data": {
      "text/plain": [
       "['asad',\n",
       " 'daad',\n",
       " 4,\n",
       " 5,\n",
       " 2,\n",
       " 3,\n",
       " 4,\n",
       " 5,\n",
       " [4, 5],\n",
       " 'p',\n",
       " 'a',\n",
       " 'k',\n",
       " 'i',\n",
       " 's',\n",
       " 't',\n",
       " 'a',\n",
       " 'n']"
      ]
     },
     "execution_count": 81,
     "metadata": {},
     "output_type": "execute_result"
    }
   ],
   "source": [
    "students.extend('pakistan')            # accessible object\n",
    "students"
   ]
  },
  {
   "cell_type": "code",
   "execution_count": 82,
   "id": "3bf0fe59",
   "metadata": {},
   "outputs": [
    {
     "data": {
      "text/plain": [
       "['asad',\n",
       " 'daad',\n",
       " 4,\n",
       " 5,\n",
       " 2,\n",
       " 3,\n",
       " 4,\n",
       " 5,\n",
       " [4, 5],\n",
       " 'p',\n",
       " 'a',\n",
       " 'k',\n",
       " 'i',\n",
       " 's',\n",
       " 't',\n",
       " 'a',\n",
       " 'n',\n",
       " '2',\n",
       " '3',\n",
       " '4',\n",
       " '6']"
      ]
     },
     "execution_count": 82,
     "metadata": {},
     "output_type": "execute_result"
    }
   ],
   "source": [
    "students.extend('2346')            # accessible object\n",
    "students"
   ]
  },
  {
   "cell_type": "code",
   "execution_count": 83,
   "id": "0d7ec588",
   "metadata": {},
   "outputs": [],
   "source": [
    "a = [4,5]"
   ]
  },
  {
   "cell_type": "code",
   "execution_count": 84,
   "id": "49760e93",
   "metadata": {},
   "outputs": [
    {
     "data": {
      "text/plain": [
       "[4, 5]"
      ]
     },
     "execution_count": 84,
     "metadata": {},
     "output_type": "execute_result"
    }
   ],
   "source": [
    "a"
   ]
  },
  {
   "cell_type": "code",
   "execution_count": 85,
   "id": "7720ec1f",
   "metadata": {},
   "outputs": [
    {
     "data": {
      "text/plain": [
       "[4, 5, [23, 34]]"
      ]
     },
     "execution_count": 85,
     "metadata": {},
     "output_type": "execute_result"
    }
   ],
   "source": [
    "a.append([23,34])\n",
    "a"
   ]
  },
  {
   "cell_type": "code",
   "execution_count": 86,
   "id": "4bbe7a0c",
   "metadata": {},
   "outputs": [
    {
     "data": {
      "text/plain": [
       "[4, 5, [23, 34], 3, 4]"
      ]
     },
     "execution_count": 86,
     "metadata": {},
     "output_type": "execute_result"
    }
   ],
   "source": [
    "a.extend([3,4])\n",
    "a"
   ]
  },
  {
   "cell_type": "code",
   "execution_count": 87,
   "id": "4afe739c",
   "metadata": {},
   "outputs": [],
   "source": [
    "# slicing\n",
    "# type is list"
   ]
  },
  {
   "cell_type": "code",
   "execution_count": 90,
   "id": "7a2a3b13",
   "metadata": {},
   "outputs": [
    {
     "data": {
      "text/plain": [
       "[5, [23, 34], 3]"
      ]
     },
     "execution_count": 90,
     "metadata": {},
     "output_type": "execute_result"
    }
   ],
   "source": [
    "a[1:4]"
   ]
  },
  {
   "cell_type": "code",
   "execution_count": 93,
   "id": "c5d8c427",
   "metadata": {},
   "outputs": [
    {
     "data": {
      "text/plain": [
       "[[23, 34]]"
      ]
     },
     "execution_count": 93,
     "metadata": {},
     "output_type": "execute_result"
    }
   ],
   "source": [
    "a[2:3]"
   ]
  },
  {
   "cell_type": "code",
   "execution_count": 91,
   "id": "f2195a85",
   "metadata": {},
   "outputs": [
    {
     "data": {
      "text/plain": [
       "[4, 5, [23, 34]]"
      ]
     },
     "execution_count": 91,
     "metadata": {},
     "output_type": "execute_result"
    }
   ],
   "source": [
    "a[:3]"
   ]
  },
  {
   "cell_type": "code",
   "execution_count": 92,
   "id": "5d3a5376",
   "metadata": {},
   "outputs": [
    {
     "data": {
      "text/plain": [
       "[[23, 34], 3, 4]"
      ]
     },
     "execution_count": 92,
     "metadata": {},
     "output_type": "execute_result"
    }
   ],
   "source": [
    "a[2:]"
   ]
  },
  {
   "cell_type": "code",
   "execution_count": 94,
   "id": "242b7ae6",
   "metadata": {},
   "outputs": [
    {
     "data": {
      "text/plain": [
       "[4, 5, [23, 34], 3]"
      ]
     },
     "execution_count": 94,
     "metadata": {},
     "output_type": "execute_result"
    }
   ],
   "source": [
    "a[:-1]"
   ]
  },
  {
   "cell_type": "code",
   "execution_count": 96,
   "id": "85ae202f",
   "metadata": {},
   "outputs": [
    {
     "data": {
      "text/plain": [
       "[]"
      ]
     },
     "execution_count": 96,
     "metadata": {},
     "output_type": "execute_result"
    }
   ],
   "source": [
    "a[-2:-4]"
   ]
  },
  {
   "cell_type": "code",
   "execution_count": 97,
   "id": "6d7019ac",
   "metadata": {},
   "outputs": [
    {
     "data": {
      "text/plain": [
       "[5, [23, 34]]"
      ]
     },
     "execution_count": 97,
     "metadata": {},
     "output_type": "execute_result"
    }
   ],
   "source": [
    "a[-4:-2]"
   ]
  },
  {
   "cell_type": "code",
   "execution_count": 98,
   "id": "120a8a95",
   "metadata": {},
   "outputs": [
    {
     "data": {
      "text/plain": [
       "[4, 5, [23, 34], 3, 4]"
      ]
     },
     "execution_count": 98,
     "metadata": {},
     "output_type": "execute_result"
    }
   ],
   "source": [
    "a[:]"
   ]
  },
  {
   "cell_type": "code",
   "execution_count": 99,
   "id": "7bcc2b8a",
   "metadata": {},
   "outputs": [
    {
     "data": {
      "text/plain": [
       "[[23, 34], 3, 4]"
      ]
     },
     "execution_count": 99,
     "metadata": {},
     "output_type": "execute_result"
    }
   ],
   "source": [
    "a[2:300]"
   ]
  },
  {
   "cell_type": "code",
   "execution_count": 100,
   "id": "b236c10c",
   "metadata": {},
   "outputs": [
    {
     "data": {
      "text/plain": [
       "([[23, 34], 3, 4], [[23, 34], 3])"
      ]
     },
     "execution_count": 100,
     "metadata": {},
     "output_type": "execute_result"
    }
   ],
   "source": [
    "a[2:6],a[2:-1]"
   ]
  },
  {
   "cell_type": "code",
   "execution_count": 104,
   "id": "93ca0e77",
   "metadata": {},
   "outputs": [
    {
     "data": {
      "text/plain": [
       "[3, [23, 34]]"
      ]
     },
     "execution_count": 104,
     "metadata": {},
     "output_type": "execute_result"
    }
   ],
   "source": [
    "a[-2:-4:-1]"
   ]
  },
  {
   "cell_type": "code",
   "execution_count": 106,
   "id": "902f6ba7",
   "metadata": {},
   "outputs": [
    {
     "data": {
      "text/plain": [
       "[4, [23, 34], 4]"
      ]
     },
     "execution_count": 106,
     "metadata": {},
     "output_type": "execute_result"
    }
   ],
   "source": [
    "a[0:5:2]"
   ]
  },
  {
   "cell_type": "code",
   "execution_count": 113,
   "id": "7ad6d0e5",
   "metadata": {},
   "outputs": [
    {
     "data": {
      "text/plain": [
       "[4, [23, 34]]"
      ]
     },
     "execution_count": 113,
     "metadata": {},
     "output_type": "execute_result"
    }
   ],
   "source": [
    "a[5:0:-2]"
   ]
  },
  {
   "cell_type": "code",
   "execution_count": 114,
   "id": "df370d12",
   "metadata": {},
   "outputs": [
    {
     "data": {
      "text/plain": [
       "[4, 3, [23, 34], 5, 4]"
      ]
     },
     "execution_count": 114,
     "metadata": {},
     "output_type": "execute_result"
    }
   ],
   "source": [
    "a[::-1]"
   ]
  },
  {
   "cell_type": "code",
   "execution_count": 119,
   "id": "c9c1ba72",
   "metadata": {},
   "outputs": [],
   "source": [
    "# TUPLES\n",
    "# immutable"
   ]
  },
  {
   "cell_type": "code",
   "execution_count": 120,
   "id": "813c16d4",
   "metadata": {},
   "outputs": [],
   "source": [
    "a = (2,3,4,5)"
   ]
  },
  {
   "cell_type": "code",
   "execution_count": 121,
   "id": "39f98829",
   "metadata": {},
   "outputs": [
    {
     "data": {
      "text/plain": [
       "tuple"
      ]
     },
     "execution_count": 121,
     "metadata": {},
     "output_type": "execute_result"
    }
   ],
   "source": [
    "type(a)"
   ]
  },
  {
   "cell_type": "code",
   "execution_count": 122,
   "id": "ffe264ac",
   "metadata": {},
   "outputs": [
    {
     "data": {
      "text/plain": [
       "4"
      ]
     },
     "execution_count": 122,
     "metadata": {},
     "output_type": "execute_result"
    }
   ],
   "source": [
    "len(a)"
   ]
  },
  {
   "cell_type": "code",
   "execution_count": 123,
   "id": "87968e33",
   "metadata": {},
   "outputs": [],
   "source": [
    "u = {2,32,23,1,2,43,23}"
   ]
  },
  {
   "cell_type": "code",
   "execution_count": 124,
   "id": "6f8a6afb",
   "metadata": {},
   "outputs": [
    {
     "data": {
      "text/plain": [
       "{1, 2, 23, 32, 43}"
      ]
     },
     "execution_count": 124,
     "metadata": {},
     "output_type": "execute_result"
    }
   ],
   "source": [
    "u"
   ]
  },
  {
   "cell_type": "code",
   "execution_count": null,
   "id": "2d212884",
   "metadata": {},
   "outputs": [],
   "source": []
  }
 ],
 "metadata": {
  "kernelspec": {
   "display_name": "Python 3",
   "language": "python",
   "name": "python3"
  },
  "language_info": {
   "codemirror_mode": {
    "name": "ipython",
    "version": 3
   },
   "file_extension": ".py",
   "mimetype": "text/x-python",
   "name": "python",
   "nbconvert_exporter": "python",
   "pygments_lexer": "ipython3",
   "version": "3.8.8"
  }
 },
 "nbformat": 4,
 "nbformat_minor": 5
}
